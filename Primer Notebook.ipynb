{
    "cells": [
        {
            "metadata": {},
            "cell_type": "code",
            "source": "1+1",
            "execution_count": 1,
            "outputs": [
                {
                    "output_type": "execute_result",
                    "execution_count": 1,
                    "data": {
                        "text/plain": "2"
                    },
                    "metadata": {}
                }
            ]
        },
        {
            "metadata": {},
            "cell_type": "code",
            "source": "1+1",
            "execution_count": 2,
            "outputs": [
                {
                    "output_type": "execute_result",
                    "execution_count": 2,
                    "data": {
                        "text/plain": "2"
                    },
                    "metadata": {}
                }
            ]
        },
        {
            "metadata": {},
            "cell_type": "markdown",
            "source": "DATOS CLientes"
        },
        {
            "metadata": {},
            "cell_type": "code",
            "source": "\nimport types\nimport pandas as pd\nfrom botocore.client import Config\nimport ibm_boto3\n\ndef __iter__(self): return 0\n\n# @hidden_cell\n# The following code accesses a file in your IBM Cloud Object Storage. It includes your credentials.\n# You might want to remove those credentials before you share the notebook.\nclient_1f39fe8727c94256bcc5100e21c2c5c6 = ibm_boto3.client(service_name='s3',\n    ibm_api_key_id='U82rK5Kg_PrSOTsomFje4KAaQoHvvGS_7PpeBmjLGCl3',\n    ibm_auth_endpoint=\"https://iam.cloud.ibm.com/oidc/token\",\n    config=Config(signature_version='oauth'),\n    endpoint_url='https://s3-api.us-geo.objectstorage.service.networklayer.com')\n\nbody = client_1f39fe8727c94256bcc5100e21c2c5c6.get_object(Bucket='notobook-donotdelete-pr-dxobsf6mrwaiur',Key='EPQ-CedEx_ContactosClientes (3).csv')['Body']\n# add missing __iter__ method, so pandas accepts body as file-like object\nif not hasattr(body, \"__iter__\"): body.__iter__ = types.MethodType( __iter__, body )\n\ndf_data_1 = pd.read_csv(body)\ndf_data_1.head()\n",
            "execution_count": 3,
            "outputs": [
                {
                    "output_type": "execute_result",
                    "execution_count": 3,
                    "data": {
                        "text/plain": "  Compania IDCliente              NombreCliente             NombreContacto  \\\n0    EPQ01   TORRESG  Torres Carvajal Guillermo        Sandra Suarez Uribe   \n1    EPQ01   TORRESG  Torres Carvajal Guillermo  Guillermo Torres Carvajal   \n2    EPQ01  PORTELAR      Portela Marin Rogelio            Rogelio Portela   \n3    EPQ01  PORTELAR      Portela Marin Rogelio             Serafin Castro   \n4    EPQ01   VARGASL      Vargas Camacho Leonel      Leonel Vargas Camacho   \n\n                          Email  ContactoFacturacion  ContactoCompras  \\\n0  molinocalifornia@hotmail.com                False             True   \n1  molinocalifornia@hotmail.com                False            False   \n2    dolomitashuila@hotmail.com                False             True   \n3    dolomitashuila@hotmail.com                False            False   \n4            brianlvch@yahoo.es                False             True   \n\n   ContactoEmbarques    NroTelefono                     Director  \\\n0              False  (7) 671 18 46  Gloria Elena Ortega Cadavid   \n1               True  (7) 671 18 46  Gloria Elena Ortega Cadavid   \n2              False  (8) 879 16 37  Gloria Elena Ortega Cadavid   \n3               True  (8) 879 16 37  Gloria Elena Ortega Cadavid   \n4              False  (8) 875 34 12  Gloria Elena Ortega Cadavid   \n\n                   Vendedor Negocio  \n0     Milton  Macias Tapias  SOLLOG  \n1     Milton  Macias Tapias  SOLLOG  \n2  Lila Dayana Ballen Ochoa  SOLLOG  \n3  Lila Dayana Ballen Ochoa  SOLLOG  \n4  Lila Dayana Ballen Ochoa  SOLLOG  ",
                        "text/html": "<div>\n<style scoped>\n    .dataframe tbody tr th:only-of-type {\n        vertical-align: middle;\n    }\n\n    .dataframe tbody tr th {\n        vertical-align: top;\n    }\n\n    .dataframe thead th {\n        text-align: right;\n    }\n</style>\n<table border=\"1\" class=\"dataframe\">\n  <thead>\n    <tr style=\"text-align: right;\">\n      <th></th>\n      <th>Compania</th>\n      <th>IDCliente</th>\n      <th>NombreCliente</th>\n      <th>NombreContacto</th>\n      <th>Email</th>\n      <th>ContactoFacturacion</th>\n      <th>ContactoCompras</th>\n      <th>ContactoEmbarques</th>\n      <th>NroTelefono</th>\n      <th>Director</th>\n      <th>Vendedor</th>\n      <th>Negocio</th>\n    </tr>\n  </thead>\n  <tbody>\n    <tr>\n      <th>0</th>\n      <td>EPQ01</td>\n      <td>TORRESG</td>\n      <td>Torres Carvajal Guillermo</td>\n      <td>Sandra Suarez Uribe</td>\n      <td>molinocalifornia@hotmail.com</td>\n      <td>False</td>\n      <td>True</td>\n      <td>False</td>\n      <td>(7) 671 18 46</td>\n      <td>Gloria Elena Ortega Cadavid</td>\n      <td>Milton  Macias Tapias</td>\n      <td>SOLLOG</td>\n    </tr>\n    <tr>\n      <th>1</th>\n      <td>EPQ01</td>\n      <td>TORRESG</td>\n      <td>Torres Carvajal Guillermo</td>\n      <td>Guillermo Torres Carvajal</td>\n      <td>molinocalifornia@hotmail.com</td>\n      <td>False</td>\n      <td>False</td>\n      <td>True</td>\n      <td>(7) 671 18 46</td>\n      <td>Gloria Elena Ortega Cadavid</td>\n      <td>Milton  Macias Tapias</td>\n      <td>SOLLOG</td>\n    </tr>\n    <tr>\n      <th>2</th>\n      <td>EPQ01</td>\n      <td>PORTELAR</td>\n      <td>Portela Marin Rogelio</td>\n      <td>Rogelio Portela</td>\n      <td>dolomitashuila@hotmail.com</td>\n      <td>False</td>\n      <td>True</td>\n      <td>False</td>\n      <td>(8) 879 16 37</td>\n      <td>Gloria Elena Ortega Cadavid</td>\n      <td>Lila Dayana Ballen Ochoa</td>\n      <td>SOLLOG</td>\n    </tr>\n    <tr>\n      <th>3</th>\n      <td>EPQ01</td>\n      <td>PORTELAR</td>\n      <td>Portela Marin Rogelio</td>\n      <td>Serafin Castro</td>\n      <td>dolomitashuila@hotmail.com</td>\n      <td>False</td>\n      <td>False</td>\n      <td>True</td>\n      <td>(8) 879 16 37</td>\n      <td>Gloria Elena Ortega Cadavid</td>\n      <td>Lila Dayana Ballen Ochoa</td>\n      <td>SOLLOG</td>\n    </tr>\n    <tr>\n      <th>4</th>\n      <td>EPQ01</td>\n      <td>VARGASL</td>\n      <td>Vargas Camacho Leonel</td>\n      <td>Leonel Vargas Camacho</td>\n      <td>brianlvch@yahoo.es</td>\n      <td>False</td>\n      <td>True</td>\n      <td>False</td>\n      <td>(8) 875 34 12</td>\n      <td>Gloria Elena Ortega Cadavid</td>\n      <td>Lila Dayana Ballen Ochoa</td>\n      <td>SOLLOG</td>\n    </tr>\n  </tbody>\n</table>\n</div>"
                    },
                    "metadata": {}
                }
            ]
        },
        {
            "metadata": {},
            "cell_type": "code",
            "source": "",
            "execution_count": null,
            "outputs": []
        }
    ],
    "metadata": {
        "kernelspec": {
            "name": "python3",
            "display_name": "Python 3.7",
            "language": "python"
        },
        "language_info": {
            "name": "python",
            "version": "3.7.9",
            "mimetype": "text/x-python",
            "codemirror_mode": {
                "name": "ipython",
                "version": 3
            },
            "pygments_lexer": "ipython3",
            "nbconvert_exporter": "python",
            "file_extension": ".py"
        }
    },
    "nbformat": 4,
    "nbformat_minor": 1
}